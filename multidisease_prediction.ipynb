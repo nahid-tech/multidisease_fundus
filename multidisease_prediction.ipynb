{
 "cells": [
  {
   "cell_type": "code",
   "execution_count": 1,
   "id": "05653add",
   "metadata": {},
   "outputs": [
    {
     "name": "stderr",
     "output_type": "stream",
     "text": [
      "<frozen importlib._bootstrap>:219: RuntimeWarning: numpy.ndarray size changed, may indicate binary incompatibility. Expected 80 from C header, got 88 from PyObject\n"
     ]
    }
   ],
   "source": [
    "#import required lib functions \n",
    "from __future__ import print_function\n",
    "import cv2\n",
    "import numpy as np\n",
    "import matplotlib.pyplot as plt\n",
    "import random\n",
    "import os\n",
    "import shutil\n",
    "import pandas as pd\n",
    "from sklearn.metrics import confusion_matrix, make_scorer, accuracy_score\n",
    "import tensorflow as tf\n",
    "from tensorflow import keras\n",
    "from tensorflow.keras.datasets import mnist\n",
    "from tensorflow.keras.models import Sequential\n",
    "from tensorflow.keras.layers import Dense, Dropout, Flatten\n",
    "from tensorflow.keras.layers import Conv2D, MaxPooling2D\n",
    "import gzip,pickle,sys\n",
    "import sklearn\n",
    "from sklearn import model_selection\n",
    "from sklearn.model_selection import train_test_split, KFold, cross_val_score, StratifiedKFold, learning_curve, GridSearchCV\n",
    "#from keras import backend as K\n",
    "from sklearn import metrics"
   ]
  },
  {
   "cell_type": "code",
   "execution_count": 92,
   "id": "120d2709",
   "metadata": {},
   "outputs": [
    {
     "name": "stdout",
     "output_type": "stream",
     "text": [
      "1\n"
     ]
    }
   ],
   "source": [
    "img_height=60\n",
    "img_width=60\n",
    "batch_size= 32\n",
    "data_dir= \"Training_set/Training\"\n",
    "df= pd.read_csv(\"Training_set/RFMiD_Training_Labels.csv\", index_col='ID')\n",
    "#print (df.head(5))\n",
    "y=df[\"Disease_Risk\"]\n",
    "y= np.array(y)\n",
    "#col_list = df.columns[1:]\n",
    "print(y[0])"
   ]
  },
  {
   "cell_type": "code",
   "execution_count": 74,
   "id": "f21c645d",
   "metadata": {},
   "outputs": [
    {
     "name": "stdout",
     "output_type": "stream",
     "text": [
      "Index(['Disease_Risk', 'DR', 'ARMD', 'MH', 'DN', 'MYA', 'BRVO', 'TSLN', 'ERM',\n",
      "       'LS', 'MS', 'CSR', 'ODC', 'CRVO', 'TV', 'AH', 'ODP', 'ODE', 'ST',\n",
      "       'AION', 'PT', 'RT', 'RS', 'CRS', 'EDN', 'RPEC', 'MHL', 'RP', 'CWS',\n",
      "       'CB', 'ODPM', 'PRH', 'MNF', 'HR', 'CRAO', 'TD', 'CME', 'PTCR', 'CF',\n",
      "       'VH', 'MCA', 'VS', 'BRAO', 'PLQ', 'HPED', 'CL'],\n",
      "      dtype='object')\n"
     ]
    }
   ],
   "source": [
    "col_list = df.columns[:]\n",
    "print(col_list)\n",
    "#for index, row in df.iterrows():\n",
    "    #print (index, \" \", row)\n",
    "#for j, col in enumerate(col_list):\n",
    "    #print (j, \">>> \", col)"
   ]
  },
  {
   "cell_type": "code",
   "execution_count": 72,
   "id": "488708de",
   "metadata": {},
   "outputs": [],
   "source": [
    "path= \"Training_set/Training\"\n",
    "data_dir= os.listdir(path)\n",
    "#print(data_dir)"
   ]
  },
  {
   "cell_type": "code",
   "execution_count": 96,
   "id": "7912a1c1",
   "metadata": {},
   "outputs": [],
   "source": [
    "img_size= 224\n",
    "\n",
    "def get_data(path):\n",
    "    data=[]\n",
    "    i=0\n",
    "    data_dir= os.listdir(path)\n",
    "    for img in data_dir:\n",
    "        \n",
    "        img_arr = cv2.imread(os.path.join(path, img))[...,::-1] #convert BGR to RGB format\n",
    "        resized_arr = cv2.resize(img_arr, (img_size, img_size)) # Reshaping images to preferred size\n",
    "        class_num= y[i]\n",
    "        i+=1\n",
    "        data.append([resized_arr,class_num])\n",
    "        #break\n",
    "    return np.array(data)"
   ]
  },
  {
   "cell_type": "code",
   "execution_count": 97,
   "id": "3117564c",
   "metadata": {},
   "outputs": [
    {
     "name": "stderr",
     "output_type": "stream",
     "text": [
      "<ipython-input-96-a44e9372c218>:15: VisibleDeprecationWarning: Creating an ndarray from ragged nested sequences (which is a list-or-tuple of lists-or-tuples-or ndarrays with different lengths or shapes) is deprecated. If you meant to do this, you must specify 'dtype=object' when creating the ndarray.\n",
      "  return np.array(data)\n"
     ]
    }
   ],
   "source": [
    "x_data= get_data(path)"
   ]
  },
  {
   "cell_type": "code",
   "execution_count": 98,
   "id": "a24b6576",
   "metadata": {},
   "outputs": [
    {
     "data": {
      "text/plain": [
       "(1920, 2)"
      ]
     },
     "execution_count": 98,
     "metadata": {},
     "output_type": "execute_result"
    }
   ],
   "source": [
    "x_data.shape"
   ]
  },
  {
   "cell_type": "code",
   "execution_count": 75,
   "id": "f1a85868",
   "metadata": {},
   "outputs": [],
   "source": [
    "\n",
    "def analyse_classes(dt):\n",
    "    class_freq = dt.iloc[:, 1:].sum(axis=0).to_dict()\n",
    "    print('Class Fre',class_freq)\n",
    "    print(\"-------------------------------------------------------------------\")\n",
    "    n_diseased = (dt[\"Disease_Risk\"] == 1).sum()\n",
    "    \n",
    "    print ('Disease Risk:', n_diseased)\n",
    "    no_diseased = (dt[\"Disease_Risk\"] == 0).sum()\n",
    "    print ('No Risk:', no_diseased)\n",
    "    for c in class_freq:\n",
    "        print(c, class_freq[c], (class_freq[c] / n_diseased))\n"
   ]
  },
  {
   "cell_type": "code",
   "execution_count": 76,
   "id": "b0652990",
   "metadata": {},
   "outputs": [
    {
     "name": "stdout",
     "output_type": "stream",
     "text": [
      "Class Fre {'DR': 376, 'ARMD': 100, 'MH': 317, 'DN': 138, 'MYA': 101, 'BRVO': 73, 'TSLN': 186, 'ERM': 14, 'LS': 47, 'MS': 15, 'CSR': 37, 'ODC': 282, 'CRVO': 28, 'TV': 6, 'AH': 16, 'ODP': 65, 'ODE': 58, 'ST': 5, 'AION': 17, 'PT': 11, 'RT': 14, 'RS': 43, 'CRS': 32, 'EDN': 15, 'RPEC': 22, 'MHL': 11, 'RP': 6, 'CWS': 3, 'CB': 1, 'ODPM': 0, 'PRH': 2, 'MNF': 3, 'HR': 0, 'CRAO': 2, 'TD': 3, 'CME': 4, 'PTCR': 5, 'CF': 3, 'VH': 1, 'MCA': 1, 'VS': 1, 'BRAO': 2, 'PLQ': 1, 'HPED': 1, 'CL': 1}\n",
      "-------------------------------------------------------------------\n",
      "Disease Risk: 1519\n",
      "No Risk: 401\n",
      "DR 376 0.24753127057274524\n",
      "ARMD 100 0.06583278472679395\n",
      "MH 317 0.2086899275839368\n",
      "DN 138 0.09084924292297564\n",
      "MYA 101 0.06649111257406189\n",
      "BRVO 73 0.04805793285055958\n",
      "TSLN 186 0.12244897959183673\n",
      "ERM 14 0.009216589861751152\n",
      "LS 47 0.030941408821593155\n",
      "MS 15 0.009874917709019092\n",
      "CSR 37 0.024358130348913758\n",
      "ODC 282 0.18564845292955892\n",
      "CRVO 28 0.018433179723502304\n",
      "TV 6 0.003949967083607637\n",
      "AH 16 0.01053324555628703\n",
      "ODP 65 0.042791310072416065\n",
      "ODE 58 0.03818301514154049\n",
      "ST 5 0.0032916392363396972\n",
      "AION 17 0.01119157340355497\n",
      "PT 11 0.007241606319947334\n",
      "RT 14 0.009216589861751152\n",
      "RS 43 0.028308097432521395\n",
      "CRS 32 0.02106649111257406\n",
      "EDN 15 0.009874917709019092\n",
      "RPEC 22 0.014483212639894667\n",
      "MHL 11 0.007241606319947334\n",
      "RP 6 0.003949967083607637\n",
      "CWS 3 0.0019749835418038184\n",
      "CB 1 0.0006583278472679394\n",
      "ODPM 0 0.0\n",
      "PRH 2 0.0013166556945358788\n",
      "MNF 3 0.0019749835418038184\n",
      "HR 0 0.0\n",
      "CRAO 2 0.0013166556945358788\n",
      "TD 3 0.0019749835418038184\n",
      "CME 4 0.0026333113890717576\n",
      "PTCR 5 0.0032916392363396972\n",
      "CF 3 0.0019749835418038184\n",
      "VH 1 0.0006583278472679394\n",
      "MCA 1 0.0006583278472679394\n",
      "VS 1 0.0006583278472679394\n",
      "BRAO 2 0.0013166556945358788\n",
      "PLQ 1 0.0006583278472679394\n",
      "HPED 1 0.0006583278472679394\n",
      "CL 1 0.0006583278472679394\n"
     ]
    }
   ],
   "source": [
    "analyse_classes(df)\n"
   ]
  },
  {
   "cell_type": "code",
   "execution_count": null,
   "id": "b3e53b79",
   "metadata": {},
   "outputs": [],
   "source": []
  }
 ],
 "metadata": {
  "kernelspec": {
   "display_name": "Python 3",
   "language": "python",
   "name": "python3"
  },
  "language_info": {
   "codemirror_mode": {
    "name": "ipython",
    "version": 3
   },
   "file_extension": ".py",
   "mimetype": "text/x-python",
   "name": "python",
   "nbconvert_exporter": "python",
   "pygments_lexer": "ipython3",
   "version": "3.8.8"
  }
 },
 "nbformat": 4,
 "nbformat_minor": 5
}
